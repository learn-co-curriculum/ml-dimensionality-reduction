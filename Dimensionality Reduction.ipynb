{
 "cells": [
  {
   "cell_type": "markdown",
   "metadata": {},
   "source": [
    "# Dimensionality Reduction"
   ]
  },
  {
   "cell_type": "markdown",
   "metadata": {},
   "source": [
    "## 1. Introduction"
   ]
  },
  {
   "cell_type": "markdown",
   "metadata": {},
   "source": [
    "Data is everywhere! And throughout the years, more and more real-world observations are being tracked and recorded in data sets. This often results in data sets that are very high-dimensional. Sometimes, though, you only want to keep the variables that are the most important ones. There are very advances techniques to do this, but a little bit of data exploring goes a long way!\n",
    "\n",
    "In this lecture, we'll give an overview of four fairly ad-hoc ways to significantly reduce the amount of data you have, whitout harming the predictive power of the eventual model! The four techniques that will be discussed are:"
   ]
  },
  {
   "cell_type": "markdown",
   "metadata": {},
   "source": [
    "- Deleting variables with a high amount of missingness\n",
    "- Deleting highly correlated variables\n",
    "- Grouping classes together for categorical variables that have many categories"
   ]
  },
  {
   "cell_type": "markdown",
   "metadata": {},
   "source": [
    "## 2. The data: a first glance"
   ]
  },
  {
   "cell_type": "markdown",
   "metadata": {},
   "source": [
    "The data set we'll look at was created with records of absenteeism at work from July 2007 to July 2010 at a courier company in Brazil. Imagine the purpose of the data set is to *model absenteeism* based on several factors. Let's load the data and look at some summary statistics."
   ]
  },
  {
   "cell_type": "code",
   "execution_count": 131,
   "metadata": {},
   "outputs": [
    {
     "data": {
      "text/html": [
       "<div>\n",
       "<style scoped>\n",
       "    .dataframe tbody tr th:only-of-type {\n",
       "        vertical-align: middle;\n",
       "    }\n",
       "\n",
       "    .dataframe tbody tr th {\n",
       "        vertical-align: top;\n",
       "    }\n",
       "\n",
       "    .dataframe thead th {\n",
       "        text-align: right;\n",
       "    }\n",
       "</style>\n",
       "<table border=\"1\" class=\"dataframe\">\n",
       "  <thead>\n",
       "    <tr style=\"text-align: right;\">\n",
       "      <th></th>\n",
       "      <th>Reason for absence</th>\n",
       "      <th>Month</th>\n",
       "      <th>Day of the week</th>\n",
       "      <th>Seasons</th>\n",
       "      <th>Transportation expense</th>\n",
       "      <th>Distance to Work</th>\n",
       "      <th>Service time</th>\n",
       "      <th>Age</th>\n",
       "      <th>Work load</th>\n",
       "      <th>Education</th>\n",
       "      <th>Son</th>\n",
       "      <th>Social drinker</th>\n",
       "      <th>Social smoker</th>\n",
       "      <th>Weight</th>\n",
       "      <th>Height</th>\n",
       "      <th>Body mass index</th>\n",
       "      <th>Absenteeism time in hours</th>\n",
       "    </tr>\n",
       "  </thead>\n",
       "  <tbody>\n",
       "    <tr>\n",
       "      <th>0</th>\n",
       "      <td>26</td>\n",
       "      <td>7</td>\n",
       "      <td>3</td>\n",
       "      <td>1</td>\n",
       "      <td>289</td>\n",
       "      <td>36</td>\n",
       "      <td>NaN</td>\n",
       "      <td>33</td>\n",
       "      <td>239.554</td>\n",
       "      <td>1</td>\n",
       "      <td>2</td>\n",
       "      <td>1</td>\n",
       "      <td>0</td>\n",
       "      <td>90</td>\n",
       "      <td>172</td>\n",
       "      <td>30</td>\n",
       "      <td>4</td>\n",
       "    </tr>\n",
       "    <tr>\n",
       "      <th>1</th>\n",
       "      <td>0</td>\n",
       "      <td>7</td>\n",
       "      <td>3</td>\n",
       "      <td>1</td>\n",
       "      <td>118</td>\n",
       "      <td>13</td>\n",
       "      <td>NaN</td>\n",
       "      <td>50</td>\n",
       "      <td>239.554</td>\n",
       "      <td>1</td>\n",
       "      <td>1</td>\n",
       "      <td>1</td>\n",
       "      <td>0</td>\n",
       "      <td>98</td>\n",
       "      <td>178</td>\n",
       "      <td>31</td>\n",
       "      <td>0</td>\n",
       "    </tr>\n",
       "    <tr>\n",
       "      <th>2</th>\n",
       "      <td>23</td>\n",
       "      <td>7</td>\n",
       "      <td>4</td>\n",
       "      <td>1</td>\n",
       "      <td>179</td>\n",
       "      <td>51</td>\n",
       "      <td>NaN</td>\n",
       "      <td>38</td>\n",
       "      <td>239.554</td>\n",
       "      <td>1</td>\n",
       "      <td>0</td>\n",
       "      <td>1</td>\n",
       "      <td>0</td>\n",
       "      <td>89</td>\n",
       "      <td>170</td>\n",
       "      <td>31</td>\n",
       "      <td>2</td>\n",
       "    </tr>\n",
       "    <tr>\n",
       "      <th>3</th>\n",
       "      <td>7</td>\n",
       "      <td>7</td>\n",
       "      <td>5</td>\n",
       "      <td>1</td>\n",
       "      <td>279</td>\n",
       "      <td>5</td>\n",
       "      <td>14.0</td>\n",
       "      <td>39</td>\n",
       "      <td>239.554</td>\n",
       "      <td>1</td>\n",
       "      <td>2</td>\n",
       "      <td>1</td>\n",
       "      <td>1</td>\n",
       "      <td>68</td>\n",
       "      <td>168</td>\n",
       "      <td>24</td>\n",
       "      <td>4</td>\n",
       "    </tr>\n",
       "    <tr>\n",
       "      <th>4</th>\n",
       "      <td>23</td>\n",
       "      <td>7</td>\n",
       "      <td>5</td>\n",
       "      <td>1</td>\n",
       "      <td>289</td>\n",
       "      <td>36</td>\n",
       "      <td>NaN</td>\n",
       "      <td>33</td>\n",
       "      <td>239.554</td>\n",
       "      <td>1</td>\n",
       "      <td>2</td>\n",
       "      <td>1</td>\n",
       "      <td>0</td>\n",
       "      <td>90</td>\n",
       "      <td>172</td>\n",
       "      <td>30</td>\n",
       "      <td>2</td>\n",
       "    </tr>\n",
       "  </tbody>\n",
       "</table>\n",
       "</div>"
      ],
      "text/plain": [
       "   Reason for absence  Month  Day of the week  Seasons  \\\n",
       "0                  26      7                3        1   \n",
       "1                   0      7                3        1   \n",
       "2                  23      7                4        1   \n",
       "3                   7      7                5        1   \n",
       "4                  23      7                5        1   \n",
       "\n",
       "   Transportation expense  Distance to Work  Service time  Age  Work load  \\\n",
       "0                     289                36           NaN   33    239.554   \n",
       "1                     118                13           NaN   50    239.554   \n",
       "2                     179                51           NaN   38    239.554   \n",
       "3                     279                 5          14.0   39    239.554   \n",
       "4                     289                36           NaN   33    239.554   \n",
       "\n",
       "   Education  Son  Social drinker  Social smoker  Weight  Height  \\\n",
       "0          1    2               1              0      90     172   \n",
       "1          1    1               1              0      98     178   \n",
       "2          1    0               1              0      89     170   \n",
       "3          1    2               1              1      68     168   \n",
       "4          1    2               1              0      90     172   \n",
       "\n",
       "   Body mass index  Absenteeism time in hours  \n",
       "0               30                          4  \n",
       "1               31                          0  \n",
       "2               31                          2  \n",
       "3               24                          4  \n",
       "4               30                          2  "
      ]
     },
     "execution_count": 131,
     "metadata": {},
     "output_type": "execute_result"
    }
   ],
   "source": [
    "import pandas as pd\n",
    "import numpy as np\n",
    "data = pd.read_csv(\"absence_data.csv\", sep = ',', index_col = 0)\n",
    "import matplotlib.pyplot as plt\n",
    "data.head()"
   ]
  },
  {
   "cell_type": "code",
   "execution_count": 132,
   "metadata": {},
   "outputs": [
    {
     "data": {
      "text/plain": [
       "(413, 17)"
      ]
     },
     "execution_count": 132,
     "metadata": {},
     "output_type": "execute_result"
    }
   ],
   "source": [
    "data.shape"
   ]
  },
  {
   "cell_type": "markdown",
   "metadata": {},
   "source": [
    "The variables in the data set are:"
   ]
  },
  {
   "attachments": {},
   "cell_type": "markdown",
   "metadata": {},
   "source": [
    "1. reason for absence (a class variable with 28 classes, we'll discuss in more detail below)\n",
    "2. Month (1-12)\n",
    "3. Day of the week (Monday (2), Tuesday (3), Wednesday (4), Thursday (5), Friday (6))\n",
    "4. Seasons\n",
    "5. Transportation expense\n",
    "6. Distance to Work (kilometers)\n",
    "7. Service time\n",
    "8. Age\n",
    "9. Work load per day\n",
    "10. Education (high school (1), graduate (2), postgraduate (3), master and doctor (4))\n",
    "11. Son (number of children)\n",
    "12. Social drinker (yes=1; no=0)\n",
    "13. Social smoker (yes=1; no=0)\n",
    "14. Weight\n",
    "15. Height\n",
    "16. Body mass index\n",
    "17. Absenteeism time in hours (target)"
   ]
  },
  {
   "cell_type": "markdown",
   "metadata": {},
   "source": [
    "The data has 17 columns and 413 rows. Admittedly, this isn't a massive high-dimensional data set, but pretty good for learning purposes here. Let's have a look at the data and see how we can reduce dimensionality here!"
   ]
  },
  {
   "cell_type": "markdown",
   "metadata": {},
   "source": [
    "## 3. Deleting variables with high amount of missingness"
   ]
  },
  {
   "cell_type": "markdown",
   "metadata": {},
   "source": [
    "By looking at just the head of the data, which we did previously, it already became apparent that there are some missing values for the variable `value_count`."
   ]
  },
  {
   "cell_type": "code",
   "execution_count": 133,
   "metadata": {},
   "outputs": [
    {
     "data": {
      "text/plain": [
       "Reason for absence           False\n",
       "Month                        False\n",
       "Day of the week              False\n",
       "Seasons                      False\n",
       "Transportation expense       False\n",
       "Distance to Work             False\n",
       "Service time                  True\n",
       "Age                          False\n",
       "Work load                     True\n",
       "Education                    False\n",
       "Son                          False\n",
       "Social drinker               False\n",
       "Social smoker                False\n",
       "Weight                       False\n",
       "Height                       False\n",
       "Body mass index              False\n",
       "Absenteeism time in hours    False\n",
       "dtype: bool"
      ]
     },
     "execution_count": 133,
     "metadata": {},
     "output_type": "execute_result"
    }
   ],
   "source": [
    "data.isna().any()"
   ]
  },
  {
   "cell_type": "markdown",
   "metadata": {},
   "source": [
    "Seems like there are missing values for work load too! Lets's have a look at the extent of the missingness."
   ]
  },
  {
   "cell_type": "code",
   "execution_count": 134,
   "metadata": {},
   "outputs": [
    {
     "data": {
      "text/plain": [
       "260"
      ]
     },
     "execution_count": 134,
     "metadata": {},
     "output_type": "execute_result"
    }
   ],
   "source": [
    "service_n_missing = data['Service time'].isna().sum()\n",
    "service_n_missing"
   ]
  },
  {
   "cell_type": "markdown",
   "metadata": {},
   "source": [
    "Seems like that is quite a lot! Let's see what fraction this represents."
   ]
  },
  {
   "cell_type": "code",
   "execution_count": 135,
   "metadata": {},
   "outputs": [
    {
     "data": {
      "text/plain": [
       "0.6295399515738499"
      ]
     },
     "execution_count": 135,
     "metadata": {},
     "output_type": "execute_result"
    }
   ],
   "source": [
    "service_fraction_missing = service_n_missing / len(data)\n",
    "service_fraction_missing"
   ]
  },
  {
   "cell_type": "markdown",
   "metadata": {},
   "source": [
    "As we have more than half of the instances missing, we'll delete it later. Let's repeat this for the variable `work load`"
   ]
  },
  {
   "cell_type": "code",
   "execution_count": 136,
   "metadata": {},
   "outputs": [],
   "source": [
    "work_load_n_missing = data['Work load'].isna().sum()"
   ]
  },
  {
   "cell_type": "code",
   "execution_count": 137,
   "metadata": {},
   "outputs": [
    {
     "data": {
      "text/plain": [
       "0.29782082324455206"
      ]
     },
     "execution_count": 137,
     "metadata": {},
     "output_type": "execute_result"
    }
   ],
   "source": [
    "work_load_fraction_missing = work_load_n_missing / len(data)\n",
    "work_load_fraction_missing"
   ]
  },
  {
   "cell_type": "markdown",
   "metadata": {},
   "source": [
    "The missingness for the `work load` variable is close to 30%. Although this is definitely a lower missingness the  the one for `service`, 30% is still significant enought to remove the variable. \n",
    "\n",
    "Generally, for lower missingness rates, you might argue that you can use imputation rules (replacing by the mean, replacing by the modal class,...). For the purpose of this lecture, we'll delete both the \"Service time\" and the `Work load` variable. In practice, the final decision will depend on several factors, such as general decision rules set up front, or simply how important it is to still try and keep a certain variable in the data set."
   ]
  },
  {
   "cell_type": "code",
   "execution_count": 138,
   "metadata": {},
   "outputs": [],
   "source": [
    "data = data.drop(columns=['Service time', 'Work load'])"
   ]
  },
  {
   "cell_type": "markdown",
   "metadata": {},
   "source": [
    "## 4. Deleting highly correlated variables"
   ]
  },
  {
   "cell_type": "markdown",
   "metadata": {},
   "source": [
    "When you build a model, it is important to not have variables in your model that are highly correlated for several reasons. One of the reasons is that the interpretation of the parameter estimates might become distorted if you do this. Additionally, it is just not very useful to have highly correlated in your model as predictors when they are highly correlated. Let's have another glance at the remaining data."
   ]
  },
  {
   "cell_type": "code",
   "execution_count": 105,
   "metadata": {},
   "outputs": [
    {
     "data": {
      "text/html": [
       "<div>\n",
       "<style scoped>\n",
       "    .dataframe tbody tr th:only-of-type {\n",
       "        vertical-align: middle;\n",
       "    }\n",
       "\n",
       "    .dataframe tbody tr th {\n",
       "        vertical-align: top;\n",
       "    }\n",
       "\n",
       "    .dataframe thead th {\n",
       "        text-align: right;\n",
       "    }\n",
       "</style>\n",
       "<table border=\"1\" class=\"dataframe\">\n",
       "  <thead>\n",
       "    <tr style=\"text-align: right;\">\n",
       "      <th></th>\n",
       "      <th>Reason for absence</th>\n",
       "      <th>Month</th>\n",
       "      <th>Day of the week</th>\n",
       "      <th>Seasons</th>\n",
       "      <th>Transportation expense</th>\n",
       "      <th>Distance to Work</th>\n",
       "      <th>Service time</th>\n",
       "      <th>Age</th>\n",
       "      <th>Work load</th>\n",
       "      <th>Education</th>\n",
       "      <th>Son</th>\n",
       "      <th>Social drinker</th>\n",
       "      <th>Social smoker</th>\n",
       "      <th>Weight</th>\n",
       "      <th>Height</th>\n",
       "      <th>Body mass index</th>\n",
       "      <th>Absenteeism time in hours</th>\n",
       "    </tr>\n",
       "  </thead>\n",
       "  <tbody>\n",
       "    <tr>\n",
       "      <th>0</th>\n",
       "      <td>26</td>\n",
       "      <td>7</td>\n",
       "      <td>3</td>\n",
       "      <td>1</td>\n",
       "      <td>289</td>\n",
       "      <td>36</td>\n",
       "      <td>NaN</td>\n",
       "      <td>33</td>\n",
       "      <td>239.554</td>\n",
       "      <td>1</td>\n",
       "      <td>2</td>\n",
       "      <td>1</td>\n",
       "      <td>0</td>\n",
       "      <td>90</td>\n",
       "      <td>172</td>\n",
       "      <td>30</td>\n",
       "      <td>4</td>\n",
       "    </tr>\n",
       "    <tr>\n",
       "      <th>1</th>\n",
       "      <td>0</td>\n",
       "      <td>7</td>\n",
       "      <td>3</td>\n",
       "      <td>1</td>\n",
       "      <td>118</td>\n",
       "      <td>13</td>\n",
       "      <td>NaN</td>\n",
       "      <td>50</td>\n",
       "      <td>239.554</td>\n",
       "      <td>1</td>\n",
       "      <td>1</td>\n",
       "      <td>1</td>\n",
       "      <td>0</td>\n",
       "      <td>98</td>\n",
       "      <td>178</td>\n",
       "      <td>31</td>\n",
       "      <td>0</td>\n",
       "    </tr>\n",
       "    <tr>\n",
       "      <th>2</th>\n",
       "      <td>23</td>\n",
       "      <td>7</td>\n",
       "      <td>4</td>\n",
       "      <td>1</td>\n",
       "      <td>179</td>\n",
       "      <td>51</td>\n",
       "      <td>NaN</td>\n",
       "      <td>38</td>\n",
       "      <td>239.554</td>\n",
       "      <td>1</td>\n",
       "      <td>0</td>\n",
       "      <td>1</td>\n",
       "      <td>0</td>\n",
       "      <td>89</td>\n",
       "      <td>170</td>\n",
       "      <td>31</td>\n",
       "      <td>2</td>\n",
       "    </tr>\n",
       "    <tr>\n",
       "      <th>3</th>\n",
       "      <td>7</td>\n",
       "      <td>7</td>\n",
       "      <td>5</td>\n",
       "      <td>1</td>\n",
       "      <td>279</td>\n",
       "      <td>5</td>\n",
       "      <td>14.0</td>\n",
       "      <td>39</td>\n",
       "      <td>239.554</td>\n",
       "      <td>1</td>\n",
       "      <td>2</td>\n",
       "      <td>1</td>\n",
       "      <td>1</td>\n",
       "      <td>68</td>\n",
       "      <td>168</td>\n",
       "      <td>24</td>\n",
       "      <td>4</td>\n",
       "    </tr>\n",
       "    <tr>\n",
       "      <th>4</th>\n",
       "      <td>23</td>\n",
       "      <td>7</td>\n",
       "      <td>5</td>\n",
       "      <td>1</td>\n",
       "      <td>289</td>\n",
       "      <td>36</td>\n",
       "      <td>NaN</td>\n",
       "      <td>33</td>\n",
       "      <td>239.554</td>\n",
       "      <td>1</td>\n",
       "      <td>2</td>\n",
       "      <td>1</td>\n",
       "      <td>0</td>\n",
       "      <td>90</td>\n",
       "      <td>172</td>\n",
       "      <td>30</td>\n",
       "      <td>2</td>\n",
       "    </tr>\n",
       "  </tbody>\n",
       "</table>\n",
       "</div>"
      ],
      "text/plain": [
       "   Reason for absence  Month  Day of the week  Seasons  \\\n",
       "0                  26      7                3        1   \n",
       "1                   0      7                3        1   \n",
       "2                  23      7                4        1   \n",
       "3                   7      7                5        1   \n",
       "4                  23      7                5        1   \n",
       "\n",
       "   Transportation expense  Distance to Work  Service time  Age  Work load  \\\n",
       "0                     289                36           NaN   33    239.554   \n",
       "1                     118                13           NaN   50    239.554   \n",
       "2                     179                51           NaN   38    239.554   \n",
       "3                     279                 5          14.0   39    239.554   \n",
       "4                     289                36           NaN   33    239.554   \n",
       "\n",
       "   Education  Son  Social drinker  Social smoker  Weight  Height  \\\n",
       "0          1    2               1              0      90     172   \n",
       "1          1    1               1              0      98     178   \n",
       "2          1    0               1              0      89     170   \n",
       "3          1    2               1              1      68     168   \n",
       "4          1    2               1              0      90     172   \n",
       "\n",
       "   Body mass index  Absenteeism time in hours  \n",
       "0               30                          4  \n",
       "1               31                          0  \n",
       "2               31                          2  \n",
       "3               24                          4  \n",
       "4               30                          2  "
      ]
     },
     "execution_count": 105,
     "metadata": {},
     "output_type": "execute_result"
    }
   ],
   "source": [
    "data.head()"
   ]
  },
  {
   "cell_type": "markdown",
   "metadata": {},
   "source": [
    "Let's have a look at `Transportation expense` and `Distance to work`. Depending on whether the company set up the transportation expenses for commuting, these two variables might be correlated."
   ]
  },
  {
   "cell_type": "code",
   "execution_count": 106,
   "metadata": {},
   "outputs": [
    {
     "data": {
      "text/plain": [
       "0.17455862905158437"
      ]
     },
     "execution_count": 106,
     "metadata": {},
     "output_type": "execute_result"
    }
   ],
   "source": [
    "np.corrcoef(data['Transportation expense'], data['Distance to Work'])[0,1]"
   ]
  },
  {
   "cell_type": "markdown",
   "metadata": {},
   "source": [
    "This doesn't seem to be the case! How about weight and height? You would assume that taller people will generally be heavier too."
   ]
  },
  {
   "cell_type": "code",
   "execution_count": 112,
   "metadata": {},
   "outputs": [
    {
     "data": {
      "text/plain": [
       "0.3040706707220844"
      ]
     },
     "execution_count": 112,
     "metadata": {},
     "output_type": "execute_result"
    }
   ],
   "source": [
    "np.corrcoef(data['Weight'], data['Height'])[0,1]"
   ]
  },
  {
   "cell_type": "markdown",
   "metadata": {},
   "source": [
    "Well, it turns out that's not quite the case. Now, let's look at weight and body mass index. We know for a fact that the BMI is calculated using someone's weight and height."
   ]
  },
  {
   "cell_type": "code",
   "execution_count": 113,
   "metadata": {},
   "outputs": [
    {
     "data": {
      "text/plain": [
       "0.9105297231349522"
      ]
     },
     "execution_count": 113,
     "metadata": {},
     "output_type": "execute_result"
    }
   ],
   "source": [
    "np.corrcoef(data['Weight'], data['Body mass index'])[0,1]"
   ]
  },
  {
   "cell_type": "markdown",
   "metadata": {},
   "source": [
    "This is clearly highly correlated! We could go on and calculate the correlations between each variable pair, but that wouldn't be very efficient. What we can do is create a *heatmap* of the correlations across variables. This is a visual representation of the correlations. On the diagonal, you can find the correlations of variables with themselves, which is always equal to 1. We are particularly looking for off-diagonal yellow squares, denoting high correlations between two variables"
   ]
  },
  {
   "cell_type": "code",
   "execution_count": 9,
   "metadata": {},
   "outputs": [
    {
     "data": {
      "text/plain": [
       "<matplotlib.image.AxesImage at 0x111b8c320>"
      ]
     },
     "execution_count": 9,
     "metadata": {},
     "output_type": "execute_result"
    },
    {
     "data": {
      "image/png": "[encoded data removed]",
      "text/plain": [
       "<matplotlib.figure.Figure at 0x10ef39ef0>"
      ]
     },
     "metadata": {},
     "output_type": "display_data"
    }
   ],
   "source": [
    "plt.matshow(data.corr())"
   ]
  },
  {
   "cell_type": "markdown",
   "metadata": {},
   "source": [
    "it seems like BMI and weight are really the only two highly correlated variables! You can generally choose which one of the two to delete. Here, we'll go for the BMI variable!"
   ]
  },
  {
   "cell_type": "code",
   "execution_count": 122,
   "metadata": {},
   "outputs": [
    {
     "data": {
      "text/plain": [
       "count    413.000000\n",
       "mean       1.208232\n",
       "std        0.578943\n",
       "min        1.000000\n",
       "25%        1.000000\n",
       "50%        1.000000\n",
       "75%        1.000000\n",
       "max        3.000000\n",
       "Name: Education, dtype: float64"
      ]
     },
     "execution_count": 122,
     "metadata": {},
     "output_type": "execute_result"
    }
   ],
   "source": [
    "data['Education'].describe()"
   ]
  },
  {
   "cell_type": "markdown",
   "metadata": {},
   "source": [
    "## 5. Grouping classes together for categorical variables that have many categories"
   ]
  },
  {
   "cell_type": "markdown",
   "metadata": {},
   "source": [
    "The variable \"Reason for absence\" has 28 categories (and one category *unknown*, denoted by 0).\n",
    "\n",
    "- 0) unknown\n",
    "- 1) Certain infectious and parasitic diseases  \n",
    "- 2) Neoplasms  \n",
    "- 3) Diseases of the blood and blood-forming organs and certain disorders involving the immune mechanism  \n",
    "- 4) Endocrine, nutritional and metabolic diseases  \n",
    "- 5) Mental and behavioural disorders  \n",
    "- 6) Diseases of the nervous system  \n",
    "- 7) Diseases of the eye and adnexa  \n",
    "- 8) Diseases of the ear and mastoid process  \n",
    "- 9) Diseases of the circulatory system  \n",
    "- 10) Diseases of the respiratory system  \n",
    "- 11) Diseases of the digestive system  \n",
    "- 12) Diseases of the skin and subcutaneous tissue  \n",
    "- 13) Diseases of the musculoskeletal system and connective tissue  \n",
    "- 14) Diseases of the genitourinary system  \n",
    "- 15) Pregnancy, childbirth and the puerperium  \n",
    "- 16) Certain conditions originating in the perinatal period  \n",
    "- 17) Congenital malformations, deformations and chromosomal abnormalities  \n",
    "- 18) Symptoms, signs and abnormal clinical and laboratory findings, not elsewhere classified  \n",
    "- 19) Injury, poisoning and certain other consequences of external causes  \n",
    "- 20) External causes of morbidity and mortality  \n",
    "- 21) Factors influencing health status and contact with health services.\n",
    "- 22) patient follow-up\n",
    "- 23) medical consultation\n",
    "- 24) blood donation\n",
    "- 25) laboratory examination\n",
    "- 26) unjustified absence\n",
    "- 27) physiotherapy\n",
    "- 28) dental consultation\n",
    "\n",
    "\n",
    "At first glance, having 28 categories does not seem like a dimensionality issue per se, as it is still contained in one variable. But remember that for many problems, each one of these classes will be transformed in its own column of dummy variables. So essentially, we would end op with 28-1 additional columns here. We have a fairly small data set, so it just doesn't seem appro\n"
   ]
  },
  {
   "cell_type": "code",
   "execution_count": 128,
   "metadata": {},
   "outputs": [
    {
     "data": {
      "text/plain": [
       "23    93\n",
       "28    74\n",
       "13    35\n",
       "27    29\n",
       "0     24\n",
       "22    19\n",
       "26    19\n",
       "19    18\n",
       "11    17\n",
       "25    14\n",
       "10    13\n",
       "18    12\n",
       "1     11\n",
       "14    10\n",
       "7      5\n",
       "12     3\n",
       "8      3\n",
       "6      3\n",
       "9      2\n",
       "24     2\n",
       "15     1\n",
       "16     1\n",
       "17     1\n",
       "5      1\n",
       "4      1\n",
       "3      1\n",
       "21     1\n",
       "Name: Reason for absence, dtype: int64"
      ]
     },
     "execution_count": 128,
     "metadata": {},
     "output_type": "execute_result"
    }
   ],
   "source": [
    "data.head()\n",
    "#data[\"Reason for absence\"].astype('category')\n",
    "data[\"Reason for absence\"].value_counts()\n",
    "\n",
    "# nothing for 2 & 20"
   ]
  },
  {
   "cell_type": "markdown",
   "metadata": {},
   "source": [
    "# we might want to add\n",
    "- AIC\n",
    "- forward/backward procedures (but are model-dependent)"
   ]
  }
 ],
 "metadata": {
  "kernelspec": {
   "display_name": "Python 3",
   "language": "python",
   "name": "python3"
  },
  "language_info": {
   "codemirror_mode": {
    "name": "ipython",
    "version": 3
   },
   "file_extension": ".py",
   "mimetype": "text/x-python",
   "name": "python",
   "nbconvert_exporter": "python",
   "pygments_lexer": "ipython3",
   "version": "3.6.4"
  }
 },
 "nbformat": 4,
 "nbformat_minor": 2
}
